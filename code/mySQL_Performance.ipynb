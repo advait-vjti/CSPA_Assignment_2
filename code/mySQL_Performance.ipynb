{
 "cells": [
  {
   "cell_type": "code",
   "execution_count": 1,
   "id": "d3189e29",
   "metadata": {},
   "outputs": [],
   "source": [
    "import mysql.connector\n",
    "import time"
   ]
  },
  {
   "cell_type": "code",
   "execution_count": 2,
   "id": "2dda9673",
   "metadata": {},
   "outputs": [],
   "source": [
    "TEST_COUNT = 5\n",
    "\n",
    "INSERT_COUNT = 5000\n",
    "UPDATE_COUNT = 5000\n",
    "DELETE_COUNT = 5000\n",
    "READ_COUNT = 5000\n",
    "\n",
    "INSERT_TIME = []\n",
    "UPDATE_TIME = []\n",
    "DELETE_TIME = []\n",
    "READ_TIME = []"
   ]
  },
  {
   "cell_type": "code",
   "execution_count": 3,
   "id": "7c850c19",
   "metadata": {},
   "outputs": [],
   "source": [
    "mydb = mysql.connector.connect(\n",
    "    host=\"localhost\",\n",
    "    user=\"admin\",\n",
    "    password=\"admin\",\n",
    "    database=\"CSPA_EVAL\"\n",
    ")\n",
    "\n",
    "mycursor = mydb.cursor()"
   ]
  },
  {
   "cell_type": "code",
   "execution_count": 4,
   "id": "5defc6e0",
   "metadata": {},
   "outputs": [],
   "source": [
    "def createTable():\n",
    "    mycursor.execute(\"CREATE TABLE Student (id int PRIMARY KEY,fname varchar(255),lname varchar(255),email varchar(255),grade char(1));\")"
   ]
  },
  {
   "cell_type": "code",
   "execution_count": 5,
   "id": "96c9ef52",
   "metadata": {},
   "outputs": [],
   "source": [
    "def dropTable():\n",
    "    mycursor.execute('DROP TABLE Student')"
   ]
  },
  {
   "cell_type": "code",
   "execution_count": 6,
   "id": "83ad576c",
   "metadata": {},
   "outputs": [],
   "source": [
    "def insertData():\n",
    "    start=time.time()\n",
    "    \n",
    "    for i in range(1,INSERT_COUNT+1):\n",
    "        id=i\n",
    "        fname='studf_{}'.format(i)\n",
    "        lname='studl_{}'.format(i)\n",
    "        email='stud_{}@mail.com'.format(i)\n",
    "        grade='A'\n",
    "        statement = \"INSERT INTO Student VALUES({},'{}','{}','{}','{}');\".format(id,fname,lname,email,grade)\n",
    "#         print(statement)\n",
    "        mycursor.execute(statement)\n",
    "        mydb.commit()\n",
    "        \n",
    "    stop=time.time()\n",
    "    time_taken = stop - start\n",
    "    INSERT_TIME.append(time_taken)\n",
    "    print('Inserted in ',time_taken)"
   ]
  },
  {
   "cell_type": "code",
   "execution_count": 7,
   "id": "d1ae6c54",
   "metadata": {},
   "outputs": [],
   "source": [
    "def updateData():\n",
    "    start=time.time()\n",
    "    \n",
    "    for i in range(1,UPDATE_COUNT+1):\n",
    "        id=i\n",
    "        new_grade='B'\n",
    "        statement = \"UPDATE Student SET grade = '{}' WHERE id = {};\".format(new_grade,id)\n",
    "#         print(statement)\n",
    "        mycursor.execute(statement)\n",
    "        mydb.commit()\n",
    "        \n",
    "    stop=time.time()\n",
    "    time_taken = stop - start\n",
    "    UPDATE_TIME.append(time_taken)\n",
    "    print('Updated in ',time_taken)"
   ]
  },
  {
   "cell_type": "code",
   "execution_count": 8,
   "id": "8ea0f96a",
   "metadata": {},
   "outputs": [],
   "source": [
    "def deleteData():\n",
    "    start=time.time()\n",
    "    \n",
    "    for i in range(1,DELETE_COUNT+1):\n",
    "        id=i\n",
    "        statement = \"DELETE FROM Student WHERE id = {};\".format(id)\n",
    "#         print(statement)\n",
    "        mycursor.execute(statement)\n",
    "        mydb.commit()\n",
    "    \n",
    "    stop=time.time()\n",
    "    time_taken = stop - start\n",
    "    DELETE_TIME.append(time_taken)\n",
    "    print('Deleted in ',time_taken)"
   ]
  },
  {
   "cell_type": "code",
   "execution_count": 9,
   "id": "f3ba2f2d",
   "metadata": {},
   "outputs": [],
   "source": [
    "def readData():\n",
    "    start=time.time()\n",
    "    \n",
    "    for i in range(1,READ_COUNT+1):\n",
    "        id=i\n",
    "        statement = \"SELECT * FROM Student WHERE id = {};\".format(id)\n",
    "#         print(statement)\n",
    "        mycursor.execute(statement)\n",
    "        my_result = mycursor.fetchall()\n",
    "#         print(my_result)\n",
    "    \n",
    "    stop=time.time()\n",
    "    time_taken = stop - start\n",
    "    READ_TIME.append(time_taken)\n",
    "    print('Read in ',time_taken)"
   ]
  },
  {
   "cell_type": "code",
   "execution_count": 10,
   "id": "a9935402",
   "metadata": {},
   "outputs": [
    {
     "name": "stdout",
     "output_type": "stream",
     "text": [
      "Testing for 5 times\n",
      "\n",
      "---------- TEST 1 ----------\n",
      "\n",
      "Inserted in  6.2940673828125\n",
      "Updated in  6.389831304550171\n",
      "Read in  0.8594651222229004\n",
      "Deleted in  7.850889205932617\n",
      "\n",
      "---------- TEST 2 ----------\n",
      "\n",
      "Inserted in  6.243988752365112\n",
      "Updated in  7.119433641433716\n",
      "Read in  0.8441805839538574\n",
      "Deleted in  8.75911259651184\n",
      "\n",
      "---------- TEST 3 ----------\n",
      "\n",
      "Inserted in  7.116490602493286\n",
      "Updated in  6.6394431591033936\n",
      "Read in  0.935051441192627\n",
      "Deleted in  8.620118856430054\n",
      "\n",
      "---------- TEST 4 ----------\n",
      "\n",
      "Inserted in  6.116857528686523\n",
      "Updated in  7.696130037307739\n",
      "Read in  0.8773677349090576\n",
      "Deleted in  8.137676000595093\n",
      "\n",
      "---------- TEST 5 ----------\n",
      "\n",
      "Inserted in  6.8308141231536865\n",
      "Updated in  6.787944555282593\n",
      "Read in  0.8754391670227051\n",
      "Deleted in  7.201329231262207\n",
      "\n",
      "\n",
      "============ RESULT ============\n",
      "\n",
      "Average Insert time: 6.520443677902222s\n",
      "Average Update time: 6.926556539535523s\n",
      "Average Read time: 0.8783008098602295s\n",
      "Average Delete time: 8.113825178146362s\n"
     ]
    }
   ],
   "source": [
    "print('Testing for {} times'.format(TEST_COUNT))\n",
    "for i in range(1,TEST_COUNT+1):\n",
    "    print('\\n---------- TEST {} ----------\\n'.format(i))\n",
    "    createTable()\n",
    "    \n",
    "    insertData()\n",
    "    updateData()\n",
    "    readData()\n",
    "    deleteData()\n",
    "    \n",
    "    dropTable()\n",
    "    \n",
    "#Averaging\n",
    "def average(lst):\n",
    "    sum = 0\n",
    "    for e in lst:\n",
    "        sum = sum + e\n",
    "\n",
    "    return sum/len(lst)\n",
    "print('\\n\\n============ RESULT ============\\n')\n",
    "print('Average Insert time: {}s'.format(average(INSERT_TIME)))\n",
    "print('Average Update time: {}s'.format(average(UPDATE_TIME)))\n",
    "print('Average Read time: {}s'.format(average(READ_TIME)))\n",
    "print('Average Delete time: {}s'.format(average(DELETE_TIME)))\n",
    "    "
   ]
  }
 ],
 "metadata": {
  "kernelspec": {
   "display_name": "Python 3 (ipykernel)",
   "language": "python",
   "name": "python3"
  },
  "language_info": {
   "codemirror_mode": {
    "name": "ipython",
    "version": 3
   },
   "file_extension": ".py",
   "mimetype": "text/x-python",
   "name": "python",
   "nbconvert_exporter": "python",
   "pygments_lexer": "ipython3",
   "version": "3.11.0"
  }
 },
 "nbformat": 4,
 "nbformat_minor": 5
}

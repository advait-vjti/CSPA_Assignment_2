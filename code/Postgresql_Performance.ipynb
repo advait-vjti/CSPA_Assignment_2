{
 "cells": [
  {
   "cell_type": "code",
   "execution_count": 1,
   "id": "ecbc4be6",
   "metadata": {},
   "outputs": [],
   "source": [
    "import psycopg2\n",
    "import time"
   ]
  },
  {
   "cell_type": "code",
   "execution_count": 2,
   "id": "141d76cc",
   "metadata": {},
   "outputs": [],
   "source": [
    "TEST_COUNT = 5\n",
    "\n",
    "INSERT_COUNT = 5000\n",
    "UPDATE_COUNT = 5000\n",
    "DELETE_COUNT = 5000\n",
    "READ_COUNT = 5000\n",
    "\n",
    "INSERT_TIME = []\n",
    "UPDATE_TIME = []\n",
    "DELETE_TIME = []\n",
    "READ_TIME = []"
   ]
  },
  {
   "cell_type": "code",
   "execution_count": 3,
   "id": "ac4634b8",
   "metadata": {},
   "outputs": [],
   "source": [
    "mydb = psycopg2.connect(database=\"CSPA_EVAL\", user='admin', password='admin', host='127.0.0.1', port= '5432')"
   ]
  },
  {
   "cell_type": "code",
   "execution_count": 4,
   "id": "bf10a465",
   "metadata": {},
   "outputs": [],
   "source": [
    "mycursor = mydb.cursor()"
   ]
  },
  {
   "cell_type": "code",
   "execution_count": 5,
   "id": "6cddf89c",
   "metadata": {},
   "outputs": [],
   "source": [
    "def createTable():\n",
    "    mycursor.execute(\"CREATE TABLE Student (id int PRIMARY KEY,fname varchar(255),lname varchar(255),email varchar(255),grade char(1));\")\n",
    "    mydb.commit()"
   ]
  },
  {
   "cell_type": "code",
   "execution_count": 6,
   "id": "1c0de9af",
   "metadata": {},
   "outputs": [],
   "source": [
    "def dropTable():\n",
    "    mycursor.execute('DROP TABLE Student')\n",
    "    mydb.commit()"
   ]
  },
  {
   "cell_type": "code",
   "execution_count": 7,
   "id": "f199b697",
   "metadata": {},
   "outputs": [],
   "source": [
    "def insertData():\n",
    "    start=time.time()\n",
    "    \n",
    "    for i in range(1,INSERT_COUNT+1):\n",
    "        id=i\n",
    "        fname='studf_{}'.format(i)\n",
    "        lname='studl_{}'.format(i)\n",
    "        email='stud_{}@mail.com'.format(i)\n",
    "        grade='A'\n",
    "        statement = \"INSERT INTO Student VALUES({},'{}','{}','{}','{}');\".format(id,fname,lname,email,grade)\n",
    "#         print(statement)\n",
    "        mycursor.execute(statement)\n",
    "        mydb.commit()\n",
    "        \n",
    "    stop=time.time()\n",
    "    time_taken = stop - start\n",
    "    INSERT_TIME.append(time_taken)\n",
    "    print('Inserted in ',time_taken)"
   ]
  },
  {
   "cell_type": "code",
   "execution_count": 8,
   "id": "7e974b94",
   "metadata": {},
   "outputs": [],
   "source": [
    "def updateData():\n",
    "    start=time.time()\n",
    "    \n",
    "    for i in range(1,UPDATE_COUNT+1):\n",
    "        id=i\n",
    "        new_grade='B'\n",
    "        statement = \"UPDATE Student SET grade = '{}' WHERE id = {};\".format(new_grade,id)\n",
    "#         print(statement)\n",
    "        mycursor.execute(statement)\n",
    "        mydb.commit()\n",
    "        \n",
    "    stop=time.time()\n",
    "    time_taken = stop - start\n",
    "    UPDATE_TIME.append(time_taken)\n",
    "    print('Updated in ',time_taken)"
   ]
  },
  {
   "cell_type": "code",
   "execution_count": 9,
   "id": "3f3e2702",
   "metadata": {},
   "outputs": [],
   "source": [
    "def deleteData():\n",
    "    start=time.time()\n",
    "    \n",
    "    for i in range(1,DELETE_COUNT+1):\n",
    "        id=i\n",
    "        statement = \"DELETE FROM Student WHERE id = {};\".format(id)\n",
    "#         print(statement)\n",
    "        mycursor.execute(statement)\n",
    "        mydb.commit()\n",
    "    \n",
    "    stop=time.time()\n",
    "    time_taken = stop - start\n",
    "    DELETE_TIME.append(time_taken)\n",
    "    print('Deleted in ',time_taken)"
   ]
  },
  {
   "cell_type": "code",
   "execution_count": 10,
   "id": "473fc5ae",
   "metadata": {},
   "outputs": [],
   "source": [
    "def readData():\n",
    "    start=time.time()\n",
    "    \n",
    "    for i in range(1,READ_COUNT+1):\n",
    "        id=i\n",
    "        statement = \"SELECT * FROM Student WHERE id = {};\".format(id)\n",
    "#         print(statement)\n",
    "        mycursor.execute(statement)\n",
    "        my_result = mycursor.fetchall()\n",
    "#         print(my_result)\n",
    "    \n",
    "    stop=time.time()\n",
    "    time_taken = stop - start\n",
    "    READ_TIME.append(time_taken)\n",
    "    print('Read in ',time_taken)"
   ]
  },
  {
   "cell_type": "code",
   "execution_count": 11,
   "id": "441d482b",
   "metadata": {},
   "outputs": [
    {
     "name": "stdout",
     "output_type": "stream",
     "text": [
      "Testing for 5 times\n",
      "\n",
      "---------- TEST 1 ----------\n",
      "\n",
      "Inserted in  1.917508840560913\n",
      "Updated in  1.9613265991210938\n",
      "Read in  0.7029409408569336\n",
      "Deleted in  2.042280673980713\n",
      "\n",
      "---------- TEST 2 ----------\n",
      "\n",
      "Inserted in  2.2599332332611084\n",
      "Updated in  2.2341208457946777\n",
      "Read in  0.6158087253570557\n",
      "Deleted in  2.3101806640625\n",
      "\n",
      "---------- TEST 3 ----------\n",
      "\n",
      "Inserted in  1.9416894912719727\n",
      "Updated in  3.1101410388946533\n",
      "Read in  0.9380600452423096\n",
      "Deleted in  2.947625160217285\n",
      "\n",
      "---------- TEST 4 ----------\n",
      "\n",
      "Inserted in  1.8748767375946045\n",
      "Updated in  2.1416447162628174\n",
      "Read in  0.668717622756958\n",
      "Deleted in  2.420727252960205\n",
      "\n",
      "---------- TEST 5 ----------\n",
      "\n",
      "Inserted in  1.933046579360962\n",
      "Updated in  2.676555871963501\n",
      "Read in  0.8050656318664551\n",
      "Deleted in  2.268627882003784\n",
      "\n",
      "\n",
      "============ RESULT ============\n",
      "\n",
      "Average Insert time: 1.9854109764099122s\n",
      "Average Update time: 2.4247578144073487s\n",
      "Average Read time: 0.7461185932159424s\n",
      "Average Delete time: 2.3978883266448974s\n"
     ]
    }
   ],
   "source": [
    "print('Testing for {} times'.format(TEST_COUNT))\n",
    "for i in range(1,TEST_COUNT+1):\n",
    "    print('\\n---------- TEST {} ----------\\n'.format(i))\n",
    "    createTable()\n",
    "    \n",
    "    insertData()\n",
    "    updateData()\n",
    "    readData()\n",
    "    deleteData()\n",
    "    \n",
    "    dropTable()\n",
    "    \n",
    "#Averaging\n",
    "def average(lst):\n",
    "    sum = 0\n",
    "    for e in lst:\n",
    "        sum = sum + e\n",
    "\n",
    "    return sum/len(lst)\n",
    "print('\\n\\n============ RESULT ============\\n')\n",
    "print('Average Insert time: {}s'.format(average(INSERT_TIME)))\n",
    "print('Average Update time: {}s'.format(average(UPDATE_TIME)))\n",
    "print('Average Read time: {}s'.format(average(READ_TIME)))\n",
    "print('Average Delete time: {}s'.format(average(DELETE_TIME)))\n",
    "\n",
    "mydb.close()"
   ]
  }
 ],
 "metadata": {
  "kernelspec": {
   "display_name": "Python 3 (ipykernel)",
   "language": "python",
   "name": "python3"
  },
  "language_info": {
   "codemirror_mode": {
    "name": "ipython",
    "version": 3
   },
   "file_extension": ".py",
   "mimetype": "text/x-python",
   "name": "python",
   "nbconvert_exporter": "python",
   "pygments_lexer": "ipython3",
   "version": "3.11.0"
  }
 },
 "nbformat": 4,
 "nbformat_minor": 5
}

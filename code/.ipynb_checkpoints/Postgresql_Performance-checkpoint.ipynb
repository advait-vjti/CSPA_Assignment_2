{
 "cells": [
  {
   "cell_type": "code",
   "execution_count": 1,
   "id": "ee6bef17",
   "metadata": {},
   "outputs": [],
   "source": [
    "import psycopg2\n",
    "import time"
   ]
  },
  {
   "cell_type": "code",
   "execution_count": 2,
   "id": "d87badee",
   "metadata": {},
   "outputs": [],
   "source": [
    "TEST_COUNT = 5\n",
    "\n",
    "INSERT_COUNT = 5000\n",
    "UPDATE_COUNT = 5000\n",
    "DELETE_COUNT = 5000\n",
    "READ_COUNT = 5000\n",
    "\n",
    "INSERT_TIME = []\n",
    "UPDATE_TIME = []\n",
    "DELETE_TIME = []\n",
    "READ_TIME = []"
   ]
  },
  {
   "cell_type": "code",
   "execution_count": 3,
   "id": "a5acd629",
   "metadata": {},
   "outputs": [],
   "source": [
    "mydb = psycopg2.connect(database=\"CSPA_EVAL\", user='admin', password='admin', host='127.0.0.1', port= '5432')"
   ]
  },
  {
   "cell_type": "code",
   "execution_count": 4,
   "id": "42638ecc",
   "metadata": {},
   "outputs": [],
   "source": [
    "mycursor = mydb.cursor()"
   ]
  },
  {
   "cell_type": "code",
   "execution_count": 5,
   "id": "5e285ed7",
   "metadata": {},
   "outputs": [],
   "source": [
    "def createTable():\n",
    "    mycursor.execute(\"CREATE TABLE Student (id int PRIMARY KEY,fname varchar(255),lname varchar(255),email varchar(255),grade char(1));\")\n",
    "    mydb.commit()"
   ]
  },
  {
   "cell_type": "code",
   "execution_count": 6,
   "id": "847122ee",
   "metadata": {},
   "outputs": [],
   "source": [
    "def dropTable():\n",
    "    mycursor.execute('DROP TABLE Student')\n",
    "    mydb.commit()"
   ]
  },
  {
   "cell_type": "code",
   "execution_count": 7,
   "id": "a812e427",
   "metadata": {},
   "outputs": [],
   "source": [
    "def insertData():\n",
    "    start=time.time()\n",
    "    \n",
    "    for i in range(1,INSERT_COUNT+1):\n",
    "        id=i\n",
    "        fname='studf_{}'.format(i)\n",
    "        lname='studl_{}'.format(i)\n",
    "        email='stud_{}@mail.com'.format(i)\n",
    "        grade='A'\n",
    "        statement = \"INSERT INTO Student VALUES({},'{}','{}','{}','{}');\".format(id,fname,lname,email,grade)\n",
    "#         print(statement)\n",
    "        mycursor.execute(statement)\n",
    "        mydb.commit()\n",
    "        \n",
    "    stop=time.time()\n",
    "    time_taken = stop - start\n",
    "    INSERT_TIME.append(time_taken)\n",
    "    print('Inserted in ',time_taken)"
   ]
  },
  {
   "cell_type": "code",
   "execution_count": 8,
   "id": "b350876d",
   "metadata": {},
   "outputs": [],
   "source": [
    "def updateData():\n",
    "    start=time.time()\n",
    "    \n",
    "    for i in range(1,UPDATE_COUNT+1):\n",
    "        id=i\n",
    "        new_grade='B'\n",
    "        statement = \"UPDATE Student SET grade = '{}' WHERE id = {};\".format(new_grade,id)\n",
    "#         print(statement)\n",
    "        mycursor.execute(statement)\n",
    "        mydb.commit()\n",
    "        \n",
    "    stop=time.time()\n",
    "    time_taken = stop - start\n",
    "    UPDATE_TIME.append(time_taken)\n",
    "    print('Updated in ',time_taken)"
   ]
  },
  {
   "cell_type": "code",
   "execution_count": 9,
   "id": "924289ab",
   "metadata": {},
   "outputs": [],
   "source": [
    "def deleteData():\n",
    "    start=time.time()\n",
    "    \n",
    "    for i in range(1,DELETE_COUNT+1):\n",
    "        id=i\n",
    "        statement = \"DELETE FROM Student WHERE id = {};\".format(id)\n",
    "#         print(statement)\n",
    "        mycursor.execute(statement)\n",
    "        mydb.commit()\n",
    "    \n",
    "    stop=time.time()\n",
    "    time_taken = stop - start\n",
    "    DELETE_TIME.append(time_taken)\n",
    "    print('Deleted in ',time_taken)"
   ]
  },
  {
   "cell_type": "code",
   "execution_count": 10,
   "id": "f85170e9",
   "metadata": {},
   "outputs": [],
   "source": [
    "def readData():\n",
    "    start=time.time()\n",
    "    \n",
    "    for i in range(1,READ_COUNT+1):\n",
    "        id=i\n",
    "        statement = \"SELECT * FROM Student WHERE id = {};\".format(id)\n",
    "#         print(statement)\n",
    "        mycursor.execute(statement)\n",
    "        my_result = mycursor.fetchall()\n",
    "#         print(my_result)\n",
    "    \n",
    "    stop=time.time()\n",
    "    time_taken = stop - start\n",
    "    READ_TIME.append(time_taken)\n",
    "    print('Read in ',time_taken)"
   ]
  },
  {
   "cell_type": "code",
   "execution_count": 11,
   "id": "1edcb699",
   "metadata": {},
   "outputs": [
    {
     "name": "stdout",
     "output_type": "stream",
     "text": [
      "Testing for 5 times\n",
      "\n",
      "---------- TEST 1 ----------\n",
      "\n",
      "Inserted in  1.6792397499084473\n",
      "Updated in  1.7581992149353027\n",
      "Read in  0.496140718460083\n",
      "Deleted in  1.6638834476470947\n",
      "\n",
      "---------- TEST 2 ----------\n",
      "\n",
      "Inserted in  1.7700698375701904\n",
      "Updated in  2.01993727684021\n",
      "Read in  0.6087911128997803\n",
      "Deleted in  1.762460470199585\n",
      "\n",
      "---------- TEST 3 ----------\n",
      "\n",
      "Inserted in  1.7199571132659912\n",
      "Updated in  2.6699090003967285\n",
      "Read in  0.8737688064575195\n",
      "Deleted in  4.742298126220703\n",
      "\n",
      "---------- TEST 4 ----------\n",
      "\n",
      "Inserted in  2.195657968521118\n",
      "Updated in  2.5208184719085693\n",
      "Read in  1.0094983577728271\n",
      "Deleted in  1.9414803981781006\n",
      "\n",
      "---------- TEST 5 ----------\n",
      "\n",
      "Inserted in  1.7658402919769287\n",
      "Updated in  2.0769128799438477\n",
      "Read in  0.654883623123169\n",
      "Deleted in  1.7548909187316895\n",
      "\n",
      "\n",
      "============ RESULT ============\n",
      "\n",
      "Average Insert time: 1.8261529922485351s\n",
      "Average Update time: 2.2091553688049315s\n",
      "Average Read time: 0.7286165237426758s\n",
      "Average Delete time: 2.3730026721954345s\n"
     ]
    }
   ],
   "source": [
    "print('Testing for {} times'.format(TEST_COUNT))\n",
    "for i in range(1,TEST_COUNT+1):\n",
    "    print('\\n---------- TEST {} ----------\\n'.format(i))\n",
    "    createTable()\n",
    "    \n",
    "    insertData()\n",
    "    updateData()\n",
    "    readData()\n",
    "    deleteData()\n",
    "    \n",
    "    dropTable()\n",
    "    \n",
    "#Averaging\n",
    "def average(lst):\n",
    "    sum = 0\n",
    "    for e in lst:\n",
    "        sum = sum + e\n",
    "\n",
    "    return sum/len(lst)\n",
    "print('\\n\\n============ RESULT ============\\n')\n",
    "print('Average Insert time: {}s'.format(average(INSERT_TIME)))\n",
    "print('Average Update time: {}s'.format(average(UPDATE_TIME)))\n",
    "print('Average Read time: {}s'.format(average(READ_TIME)))\n",
    "print('Average Delete time: {}s'.format(average(DELETE_TIME)))\n",
    "\n",
    "mydb.close()"
   ]
  }
 ],
 "metadata": {
  "kernelspec": {
   "display_name": "Python 3 (ipykernel)",
   "language": "python",
   "name": "python3"
  },
  "language_info": {
   "codemirror_mode": {
    "name": "ipython",
    "version": 3
   },
   "file_extension": ".py",
   "mimetype": "text/x-python",
   "name": "python",
   "nbconvert_exporter": "python",
   "pygments_lexer": "ipython3",
   "version": "3.11.0"
  }
 },
 "nbformat": 4,
 "nbformat_minor": 5
}
